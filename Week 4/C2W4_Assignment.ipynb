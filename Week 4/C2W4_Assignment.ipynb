{
  "cells": [
    {
      "cell_type": "markdown",
      "id": "55425ba6",
      "metadata": {
        "id": "55425ba6"
      },
      "source": [
        "# Week 4: Multi-class Classification\n",
        "\n",
        "Welcome to this assignment! In this exercise, you will get a chance to work on a multi-class classification problem. You will be using the [Sign Language MNIST](https://www.kaggle.com/datamunge/sign-language-mnist) dataset, which contains 28x28 images of hands depicting the 26 letters of the English alphabet.\n",
        "\n",
        "You will need to pre-process the data so that it can be fed into your convolutional neural network to correctly classify each image as the letter it represents.\n",
        "\n",
        "\n",
        "Let's get started!"
      ]
    },
    {
      "cell_type": "markdown",
      "id": "fc79b3cd",
      "metadata": {
        "id": "fc79b3cd"
      },
      "source": [
        "_**NOTE:** To prevent errors from the autograder, please avoid editing or deleting non-graded cells in this notebook . Please only put your solutions in between the `### START CODE HERE` and `### END CODE HERE` code comments, and refrain from adding any new cells._"
      ]
    },
    {
      "cell_type": "code",
<<<<<<< HEAD
      "execution_count": 1,
=======
      "execution_count": null,
>>>>>>> 1852eadbe6edcce3128ee79703a47bbb84f0057f
      "id": "689f1257",
      "metadata": {
        "id": "689f1257",
        "tags": [
          "graded"
        ]
      },
      "outputs": [],
      "source": [
        "# grader-required-cell\n",
        "\n",
        "import csv\n",
        "import string\n",
        "import numpy as np\n",
        "import tensorflow as tf\n",
        "import matplotlib.pyplot as plt\n",
        "from tensorflow.keras.preprocessing.image import ImageDataGenerator, array_to_img"
      ]
    },
    {
      "cell_type": "markdown",
      "id": "8e2ff6d2",
      "metadata": {
        "id": "8e2ff6d2"
      },
      "source": [
        "Download the training and test sets (the test set will actually be used as a validation set):"
      ]
    },
    {
      "cell_type": "code",
<<<<<<< HEAD
      "execution_count": 2,
      "id": "299f1a94",
      "metadata": {
        "id": "299f1a94",
        "colab": {
          "base_uri": "https://localhost:8080/"
        },
        "outputId": "94285e69-306c-4e18-97a0-edba32d6a23c"
      },
      "outputs": [
        {
          "output_type": "stream",
          "name": "stdout",
          "text": [
            "Requirement already satisfied: gdown==5.1.0 in /usr/local/lib/python3.10/dist-packages (5.1.0)\n",
            "Requirement already satisfied: beautifulsoup4 in /usr/local/lib/python3.10/dist-packages (from gdown==5.1.0) (4.12.3)\n",
            "Requirement already satisfied: filelock in /usr/local/lib/python3.10/dist-packages (from gdown==5.1.0) (3.14.0)\n",
            "Requirement already satisfied: requests[socks] in /usr/local/lib/python3.10/dist-packages (from gdown==5.1.0) (2.31.0)\n",
            "Requirement already satisfied: tqdm in /usr/local/lib/python3.10/dist-packages (from gdown==5.1.0) (4.66.2)\n",
            "Requirement already satisfied: soupsieve>1.2 in /usr/local/lib/python3.10/dist-packages (from beautifulsoup4->gdown==5.1.0) (2.5)\n",
            "Requirement already satisfied: charset-normalizer<4,>=2 in /usr/local/lib/python3.10/dist-packages (from requests[socks]->gdown==5.1.0) (3.3.2)\n",
            "Requirement already satisfied: idna<4,>=2.5 in /usr/local/lib/python3.10/dist-packages (from requests[socks]->gdown==5.1.0) (3.7)\n",
            "Requirement already satisfied: urllib3<3,>=1.21.1 in /usr/local/lib/python3.10/dist-packages (from requests[socks]->gdown==5.1.0) (2.0.7)\n",
            "Requirement already satisfied: certifi>=2017.4.17 in /usr/local/lib/python3.10/dist-packages (from requests[socks]->gdown==5.1.0) (2024.2.2)\n",
            "Requirement already satisfied: PySocks!=1.5.7,>=1.5.6 in /usr/local/lib/python3.10/dist-packages (from requests[socks]->gdown==5.1.0) (1.7.1)\n"
          ]
        }
      ],
=======
      "execution_count": null,
      "id": "299f1a94",
      "metadata": {
        "id": "299f1a94"
      },
      "outputs": [],
>>>>>>> 1852eadbe6edcce3128ee79703a47bbb84f0057f
      "source": [
        "!pip install gdown==5.1.0"
      ]
    },
    {
      "cell_type": "code",
<<<<<<< HEAD
      "execution_count": 3,
      "id": "c2187066",
      "metadata": {
        "id": "c2187066",
        "tags": [],
        "colab": {
          "base_uri": "https://localhost:8080/"
        },
        "outputId": "486dc1d8-c518-4e37-d22d-1198560304a0"
      },
      "outputs": [
        {
          "output_type": "stream",
          "name": "stdout",
          "text": [
            "/usr/local/lib/python3.10/dist-packages/gdown/__main__.py:132: FutureWarning: Option `--id` was deprecated in version 4.3.1 and will be removed in 5.0. You don't need to pass it anymore to use a file ID.\n",
            "  warnings.warn(\n",
            "Downloading...\n",
            "From: https://drive.google.com/uc?id=1z0DkA9BytlLxO1C0BAWzknLyQmZAp0HR\n",
            "To: /content/sign_mnist_train.csv\n",
            "100% 83.3M/83.3M [00:01<00:00, 50.6MB/s]\n",
            "/usr/local/lib/python3.10/dist-packages/gdown/__main__.py:132: FutureWarning: Option `--id` was deprecated in version 4.3.1 and will be removed in 5.0. You don't need to pass it anymore to use a file ID.\n",
            "  warnings.warn(\n",
            "Downloading...\n",
            "From: https://drive.google.com/uc?id=1z1BIj4qmri59GWBG4ivMNFtpZ4AXIbzg\n",
            "To: /content/sign_mnist_test.csv\n",
            "100% 21.8M/21.8M [00:00<00:00, 34.2MB/s]\n"
          ]
        }
      ],
=======
      "execution_count": null,
      "id": "c2187066",
      "metadata": {
        "id": "c2187066",
        "tags": []
      },
      "outputs": [],
>>>>>>> 1852eadbe6edcce3128ee79703a47bbb84f0057f
      "source": [
        "# sign_mnist_train.csv\n",
        "!gdown --id 1z0DkA9BytlLxO1C0BAWzknLyQmZAp0HR\n",
        "# sign_mnist_test.csv\n",
        "!gdown --id 1z1BIj4qmri59GWBG4ivMNFtpZ4AXIbzg"
      ]
    },
    {
      "cell_type": "markdown",
      "id": "7cb15ecc",
      "metadata": {
        "id": "7cb15ecc"
      },
      "source": [
        "Define some globals with the path to both files you just downloaded:"
      ]
    },
    {
      "cell_type": "code",
<<<<<<< HEAD
      "execution_count": 4,
=======
      "execution_count": null,
>>>>>>> 1852eadbe6edcce3128ee79703a47bbb84f0057f
      "id": "3b992532",
      "metadata": {
        "id": "3b992532",
        "tags": [
          "graded"
        ]
      },
      "outputs": [],
      "source": [
        "# grader-required-cell\n",
        "\n",
        "TRAINING_FILE = './sign_mnist_train.csv'\n",
        "VALIDATION_FILE = './sign_mnist_test.csv'"
      ]
    },
    {
      "cell_type": "markdown",
      "id": "dd627a35",
      "metadata": {
        "id": "dd627a35"
      },
      "source": [
        "Unlike previous assignments, you will not have the actual images provided, instead you will have the data serialized as `csv` files.\n",
        "\n",
        "Take a look at how the data looks like within the `csv` file:"
      ]
    },
    {
      "cell_type": "code",
<<<<<<< HEAD
      "execution_count": 5,
=======
      "execution_count": null,
>>>>>>> 1852eadbe6edcce3128ee79703a47bbb84f0057f
      "id": "3188a991",
      "metadata": {
        "id": "3188a991",
        "tags": [
          "graded"
<<<<<<< HEAD
        ],
        "colab": {
          "base_uri": "https://localhost:8080/"
        },
        "outputId": "7603816f-a7de-4ce5-d3c6-0e3091e09072"
      },
      "outputs": [
        {
          "output_type": "stream",
          "name": "stdout",
          "text": [
            "First line (header) looks like this:\n",
            "label,pixel1,pixel2,pixel3,pixel4,pixel5,pixel6,pixel7,pixel8,pixel9,pixel10,pixel11,pixel12,pixel13,pixel14,pixel15,pixel16,pixel17,pixel18,pixel19,pixel20,pixel21,pixel22,pixel23,pixel24,pixel25,pixel26,pixel27,pixel28,pixel29,pixel30,pixel31,pixel32,pixel33,pixel34,pixel35,pixel36,pixel37,pixel38,pixel39,pixel40,pixel41,pixel42,pixel43,pixel44,pixel45,pixel46,pixel47,pixel48,pixel49,pixel50,pixel51,pixel52,pixel53,pixel54,pixel55,pixel56,pixel57,pixel58,pixel59,pixel60,pixel61,pixel62,pixel63,pixel64,pixel65,pixel66,pixel67,pixel68,pixel69,pixel70,pixel71,pixel72,pixel73,pixel74,pixel75,pixel76,pixel77,pixel78,pixel79,pixel80,pixel81,pixel82,pixel83,pixel84,pixel85,pixel86,pixel87,pixel88,pixel89,pixel90,pixel91,pixel92,pixel93,pixel94,pixel95,pixel96,pixel97,pixel98,pixel99,pixel100,pixel101,pixel102,pixel103,pixel104,pixel105,pixel106,pixel107,pixel108,pixel109,pixel110,pixel111,pixel112,pixel113,pixel114,pixel115,pixel116,pixel117,pixel118,pixel119,pixel120,pixel121,pixel122,pixel123,pixel124,pixel125,pixel126,pixel127,pixel128,pixel129,pixel130,pixel131,pixel132,pixel133,pixel134,pixel135,pixel136,pixel137,pixel138,pixel139,pixel140,pixel141,pixel142,pixel143,pixel144,pixel145,pixel146,pixel147,pixel148,pixel149,pixel150,pixel151,pixel152,pixel153,pixel154,pixel155,pixel156,pixel157,pixel158,pixel159,pixel160,pixel161,pixel162,pixel163,pixel164,pixel165,pixel166,pixel167,pixel168,pixel169,pixel170,pixel171,pixel172,pixel173,pixel174,pixel175,pixel176,pixel177,pixel178,pixel179,pixel180,pixel181,pixel182,pixel183,pixel184,pixel185,pixel186,pixel187,pixel188,pixel189,pixel190,pixel191,pixel192,pixel193,pixel194,pixel195,pixel196,pixel197,pixel198,pixel199,pixel200,pixel201,pixel202,pixel203,pixel204,pixel205,pixel206,pixel207,pixel208,pixel209,pixel210,pixel211,pixel212,pixel213,pixel214,pixel215,pixel216,pixel217,pixel218,pixel219,pixel220,pixel221,pixel222,pixel223,pixel224,pixel225,pixel226,pixel227,pixel228,pixel229,pixel230,pixel231,pixel232,pixel233,pixel234,pixel235,pixel236,pixel237,pixel238,pixel239,pixel240,pixel241,pixel242,pixel243,pixel244,pixel245,pixel246,pixel247,pixel248,pixel249,pixel250,pixel251,pixel252,pixel253,pixel254,pixel255,pixel256,pixel257,pixel258,pixel259,pixel260,pixel261,pixel262,pixel263,pixel264,pixel265,pixel266,pixel267,pixel268,pixel269,pixel270,pixel271,pixel272,pixel273,pixel274,pixel275,pixel276,pixel277,pixel278,pixel279,pixel280,pixel281,pixel282,pixel283,pixel284,pixel285,pixel286,pixel287,pixel288,pixel289,pixel290,pixel291,pixel292,pixel293,pixel294,pixel295,pixel296,pixel297,pixel298,pixel299,pixel300,pixel301,pixel302,pixel303,pixel304,pixel305,pixel306,pixel307,pixel308,pixel309,pixel310,pixel311,pixel312,pixel313,pixel314,pixel315,pixel316,pixel317,pixel318,pixel319,pixel320,pixel321,pixel322,pixel323,pixel324,pixel325,pixel326,pixel327,pixel328,pixel329,pixel330,pixel331,pixel332,pixel333,pixel334,pixel335,pixel336,pixel337,pixel338,pixel339,pixel340,pixel341,pixel342,pixel343,pixel344,pixel345,pixel346,pixel347,pixel348,pixel349,pixel350,pixel351,pixel352,pixel353,pixel354,pixel355,pixel356,pixel357,pixel358,pixel359,pixel360,pixel361,pixel362,pixel363,pixel364,pixel365,pixel366,pixel367,pixel368,pixel369,pixel370,pixel371,pixel372,pixel373,pixel374,pixel375,pixel376,pixel377,pixel378,pixel379,pixel380,pixel381,pixel382,pixel383,pixel384,pixel385,pixel386,pixel387,pixel388,pixel389,pixel390,pixel391,pixel392,pixel393,pixel394,pixel395,pixel396,pixel397,pixel398,pixel399,pixel400,pixel401,pixel402,pixel403,pixel404,pixel405,pixel406,pixel407,pixel408,pixel409,pixel410,pixel411,pixel412,pixel413,pixel414,pixel415,pixel416,pixel417,pixel418,pixel419,pixel420,pixel421,pixel422,pixel423,pixel424,pixel425,pixel426,pixel427,pixel428,pixel429,pixel430,pixel431,pixel432,pixel433,pixel434,pixel435,pixel436,pixel437,pixel438,pixel439,pixel440,pixel441,pixel442,pixel443,pixel444,pixel445,pixel446,pixel447,pixel448,pixel449,pixel450,pixel451,pixel452,pixel453,pixel454,pixel455,pixel456,pixel457,pixel458,pixel459,pixel460,pixel461,pixel462,pixel463,pixel464,pixel465,pixel466,pixel467,pixel468,pixel469,pixel470,pixel471,pixel472,pixel473,pixel474,pixel475,pixel476,pixel477,pixel478,pixel479,pixel480,pixel481,pixel482,pixel483,pixel484,pixel485,pixel486,pixel487,pixel488,pixel489,pixel490,pixel491,pixel492,pixel493,pixel494,pixel495,pixel496,pixel497,pixel498,pixel499,pixel500,pixel501,pixel502,pixel503,pixel504,pixel505,pixel506,pixel507,pixel508,pixel509,pixel510,pixel511,pixel512,pixel513,pixel514,pixel515,pixel516,pixel517,pixel518,pixel519,pixel520,pixel521,pixel522,pixel523,pixel524,pixel525,pixel526,pixel527,pixel528,pixel529,pixel530,pixel531,pixel532,pixel533,pixel534,pixel535,pixel536,pixel537,pixel538,pixel539,pixel540,pixel541,pixel542,pixel543,pixel544,pixel545,pixel546,pixel547,pixel548,pixel549,pixel550,pixel551,pixel552,pixel553,pixel554,pixel555,pixel556,pixel557,pixel558,pixel559,pixel560,pixel561,pixel562,pixel563,pixel564,pixel565,pixel566,pixel567,pixel568,pixel569,pixel570,pixel571,pixel572,pixel573,pixel574,pixel575,pixel576,pixel577,pixel578,pixel579,pixel580,pixel581,pixel582,pixel583,pixel584,pixel585,pixel586,pixel587,pixel588,pixel589,pixel590,pixel591,pixel592,pixel593,pixel594,pixel595,pixel596,pixel597,pixel598,pixel599,pixel600,pixel601,pixel602,pixel603,pixel604,pixel605,pixel606,pixel607,pixel608,pixel609,pixel610,pixel611,pixel612,pixel613,pixel614,pixel615,pixel616,pixel617,pixel618,pixel619,pixel620,pixel621,pixel622,pixel623,pixel624,pixel625,pixel626,pixel627,pixel628,pixel629,pixel630,pixel631,pixel632,pixel633,pixel634,pixel635,pixel636,pixel637,pixel638,pixel639,pixel640,pixel641,pixel642,pixel643,pixel644,pixel645,pixel646,pixel647,pixel648,pixel649,pixel650,pixel651,pixel652,pixel653,pixel654,pixel655,pixel656,pixel657,pixel658,pixel659,pixel660,pixel661,pixel662,pixel663,pixel664,pixel665,pixel666,pixel667,pixel668,pixel669,pixel670,pixel671,pixel672,pixel673,pixel674,pixel675,pixel676,pixel677,pixel678,pixel679,pixel680,pixel681,pixel682,pixel683,pixel684,pixel685,pixel686,pixel687,pixel688,pixel689,pixel690,pixel691,pixel692,pixel693,pixel694,pixel695,pixel696,pixel697,pixel698,pixel699,pixel700,pixel701,pixel702,pixel703,pixel704,pixel705,pixel706,pixel707,pixel708,pixel709,pixel710,pixel711,pixel712,pixel713,pixel714,pixel715,pixel716,pixel717,pixel718,pixel719,pixel720,pixel721,pixel722,pixel723,pixel724,pixel725,pixel726,pixel727,pixel728,pixel729,pixel730,pixel731,pixel732,pixel733,pixel734,pixel735,pixel736,pixel737,pixel738,pixel739,pixel740,pixel741,pixel742,pixel743,pixel744,pixel745,pixel746,pixel747,pixel748,pixel749,pixel750,pixel751,pixel752,pixel753,pixel754,pixel755,pixel756,pixel757,pixel758,pixel759,pixel760,pixel761,pixel762,pixel763,pixel764,pixel765,pixel766,pixel767,pixel768,pixel769,pixel770,pixel771,pixel772,pixel773,pixel774,pixel775,pixel776,pixel777,pixel778,pixel779,pixel780,pixel781,pixel782,pixel783,pixel784\n",
            "\n",
            "Each subsequent line (data points) look like this:\n",
            "3,107,118,127,134,139,143,146,150,153,156,158,160,163,165,159,166,168,170,170,171,171,171,172,171,171,170,170,169,111,121,129,135,141,144,148,151,154,157,160,163,164,170,119,152,171,171,170,171,172,172,172,172,172,171,171,170,113,123,131,137,142,145,150,152,155,158,161,163,164,172,105,142,170,171,171,171,172,172,173,173,172,171,171,171,116,125,133,139,143,146,151,153,156,159,162,163,167,167,95,144,171,172,172,172,172,172,173,173,173,172,172,171,117,126,134,140,145,149,153,156,158,161,163,164,175,156,87,154,172,173,173,173,173,173,174,174,174,173,172,172,119,128,136,142,146,150,153,156,159,163,165,164,184,148,89,164,172,174,174,174,174,175,175,174,175,174,173,173,122,130,138,143,147,150,154,158,162,165,166,172,181,128,94,170,173,175,174,175,176,177,177,177,177,175,175,174,122,132,139,145,149,152,156,160,163,165,166,181,172,103,113,175,176,178,178,179,179,179,179,178,179,177,175,174,125,134,141,147,150,153,157,161,164,167,168,184,179,116,126,165,176,179,180,180,181,180,180,180,179,178,177,176,128,135,142,148,152,154,158,162,165,168,170,187,180,156,161,124,143,179,178,178,181,182,181,180,181,180,179,179,129,136,144,150,153,155,159,163,166,169,172,187,184,153,102,117,110,175,169,154,182,183,183,182,182,181,181,179,131,138,145,150,155,157,161,165,168,174,190,189,175,146,94,97,113,151,158,129,184,184,184,184,183,183,182,180,131,139,146,151,155,159,163,167,175,182,179,171,159,114,102,89,121,136,136,96,172,186,186,185,185,184,182,181,131,140,147,154,157,160,164,179,186,191,187,180,157,100,88,84,108,111,126,90,120,186,187,187,186,185,184,182,133,141,149,155,158,160,174,201,189,165,151,143,146,120,87,78,87,76,108,98,96,181,188,187,186,186,185,183,133,141,150,156,160,161,179,197,174,135,99,72,95,134,97,72,74,68,116,105,108,187,189,187,187,186,186,185,134,143,151,156,161,163,179,194,156,110,74,42,52,139,94,67,75,75,118,106,129,189,191,190,188,188,187,186,135,144,152,158,163,163,177,193,161,122,84,43,71,134,81,57,71,88,112,98,157,193,193,192,190,190,189,188,136,144,152,158,162,163,176,192,164,128,98,62,60,100,71,76,96,101,105,95,174,195,194,194,194,193,191,190,137,145,152,159,164,165,178,191,164,135,113,82,59,87,98,111,120,108,97,108,190,196,195,195,194,193,193,192,139,146,154,160,164,165,175,186,163,139,112,85,67,102,126,133,126,105,104,176,197,198,197,196,195,195,194,193,138,147,155,161,165,167,172,186,163,137,107,87,76,106,122,125,117,96,156,199,199,200,198,196,196,195,195,194,139,148,156,163,166,168,172,180,158,131,108,99,86,108,118,116,103,107,191,202,201,200,200,200,199,197,198,196,140,149,157,164,168,167,177,178,155,131,118,105,87,100,106,100,96,164,202,202,202,202,202,201,200,199,199,198,140,150,157,165,167,170,181,175,152,130,115,98,82,85,90,99,165,202,203,204,203,203,202,202,201,201,200,200,142,150,159,165,170,191,173,157,144,119,97,84,79,79,91,172,202,203,203,205,204,204,204,203,202,202,201,200,142,151,160,165,188,190,187,150,119,109,85,79,79,78,137,203,205,206,206,207,207,206,206,204,205,204,203,202,142,151,160,172,196,188,188,190,135,96,86,77,77,79,176,205,207,207,207,207,207,207,206,206,206,204,203,202\n",
            "\n"
          ]
        }
      ],
=======
        ]
      },
      "outputs": [],
>>>>>>> 1852eadbe6edcce3128ee79703a47bbb84f0057f
      "source": [
        "# grader-required-cell\n",
        "\n",
        "with open(TRAINING_FILE) as training_file:\n",
        "  line = training_file.readline()\n",
        "  print(f\"First line (header) looks like this:\\n{line}\")\n",
        "  line = training_file.readline()\n",
        "  print(f\"Each subsequent line (data points) look like this:\\n{line}\")"
      ]
    },
    {
      "cell_type": "markdown",
      "id": "68d1eb72",
      "metadata": {
        "id": "68d1eb72"
      },
      "source": [
        "As you can see, each file includes a header (the first line) and each subsequent data point is represented as a line that contains 785 values.\n",
        "\n",
        "The first value is the label (the numeric representation of each letter) and the other 784 values are the value of each pixel of the image. Remember that the original images have a resolution of 28x28, which sums up to 784 pixels."
      ]
    },
    {
      "cell_type": "markdown",
      "id": "77af7d9f",
      "metadata": {
        "id": "77af7d9f"
      },
      "source": [
        " ## Parsing the dataset\n",
        "\n",
        " Now complete the `parse_data_from_input` below.\n",
        "\n",
        " This function should be able to read a file passed as input and return 2 numpy arrays, one containing the labels and one containing the 28x28 representation of each image within the file. These numpy arrays should have type `float64`.\n",
        "\n",
        " A couple of things to keep in mind:\n",
        "\n",
        "- The first line contains the column headers, so you should ignore it.\n",
        "\n",
        "- Each successive line contains 785 comma-separated values between 0 and 255\n",
        "  - The first value is the label\n",
        "\n",
        "  - The rest are the pixel values for that picture\n",
        "\n",
        "  \n",
        "**Hint**:\n",
        "\n",
        "You have two options to solve this function.\n",
        "  \n",
        "   - 1. One is to use `csv.reader` and create a for loop that reads from it, if you take this approach take this into consideration:\n",
        "\n",
        "        - `csv.reader` returns an iterable that returns a row of the csv file in each iteration.\n",
        "    Following this convention, row[0] has the label and row[1:] has the 784 pixel values.\n",
        "\n",
        "        - To reshape the arrays (going from 784 to 28x28), you can use functions such as [`np.array_split`](https://numpy.org/doc/stable/reference/generated/numpy.array_split.html) or [`np.reshape`](https://numpy.org/doc/stable/reference/generated/numpy.reshape.html).\n",
        "\n",
        "        - For type conversion of the numpy arrays, use the method [`np.ndarray.astype`](https://numpy.org/doc/stable/reference/generated/numpy.ndarray.astype.html).\n",
        "\n",
        "\n",
        "   - 2. The other one is to use `np.loadtxt`. You can find the documentation [here](https://numpy.org/doc/stable/reference/generated/numpy.loadtxt.html).\n",
        "   \n",
        "   \n",
        "Regardless of the method you chose, your function should finish its execution in under 1 minute. If you see that your function is taking a long time to run, try changing your implementation."
      ]
    },
    {
      "cell_type": "code",
<<<<<<< HEAD
      "execution_count": 7,
=======
      "execution_count": null,
>>>>>>> 1852eadbe6edcce3128ee79703a47bbb84f0057f
      "id": "47096869",
      "metadata": {
        "cellView": "code",
        "id": "47096869",
        "lines_to_next_cell": 2,
        "tags": [
          "graded"
        ]
      },
      "outputs": [],
      "source": [
        "# grader-required-cell\n",
        "\n",
        "# GRADED FUNCTION: parse_data_from_input\n",
        "def parse_data_from_input(filename):\n",
        "  \"\"\"\n",
        "  Parses the images and labels from a CSV file\n",
        "\n",
        "  Args:\n",
        "    filename (string): path to the CSV file\n",
        "\n",
        "  Returns:\n",
        "    images, labels: tuple of numpy arrays containing the images and labels\n",
        "  \"\"\"\n",
        "  with open(filename) as file:\n",
        "    ### START CODE HERE\n",
        "\n",
        "    # Use csv.reader, passing in the appropriate delimiter\n",
        "    # Remember that csv.reader can be iterated and returns one line in each iteration\n",
<<<<<<< HEAD
        "    csv_reader = csv.reader(file, delimiter=',')\n",
        "\n",
        "    labels = []\n",
        "    images = []\n",
        "\n",
        "    next(csv_reader, None)\n",
        "\n",
        "    for row in csv_reader:\n",
        "      label = row[0]\n",
        "      image = row[1:]\n",
        "      image = np.reshape(image,(28, 28))\n",
        "\n",
        "      labels.append(label)\n",
        "      images.append(image)\n",
        "\n",
        "    labels = np.array(labels).astype('float')\n",
        "    images = np.array(images).astype('float')\n",
=======
        "    csv_reader = csv.reader(file, delimiter=None)\n",
        "\n",
        "    labels = None\n",
        "    images = None\n",
        "\n",
>>>>>>> 1852eadbe6edcce3128ee79703a47bbb84f0057f
        "\n",
        "    ### END CODE HERE\n",
        "\n",
        "    return images, labels"
      ]
    },
    {
      "cell_type": "code",
<<<<<<< HEAD
      "execution_count": 8,
=======
      "execution_count": null,
>>>>>>> 1852eadbe6edcce3128ee79703a47bbb84f0057f
      "id": "4ae53f24",
      "metadata": {
        "id": "4ae53f24",
        "tags": [
          "graded"
<<<<<<< HEAD
        ],
        "colab": {
          "base_uri": "https://localhost:8080/"
        },
        "outputId": "43f635b1-b1c7-47e3-a536-79dd5452c764"
      },
      "outputs": [
        {
          "output_type": "stream",
          "name": "stdout",
          "text": [
            "Training images has shape: (27455, 28, 28) and dtype: float64\n",
            "Training labels has shape: (27455,) and dtype: float64\n",
            "Validation images has shape: (7172, 28, 28) and dtype: float64\n",
            "Validation labels has shape: (7172,) and dtype: float64\n"
          ]
        }
      ],
=======
        ]
      },
      "outputs": [],
>>>>>>> 1852eadbe6edcce3128ee79703a47bbb84f0057f
      "source": [
        "# grader-required-cell\n",
        "\n",
        "# Test your function\n",
        "training_images, training_labels = parse_data_from_input(TRAINING_FILE)\n",
        "validation_images, validation_labels = parse_data_from_input(VALIDATION_FILE)\n",
        "\n",
        "print(f\"Training images has shape: {training_images.shape} and dtype: {training_images.dtype}\")\n",
        "print(f\"Training labels has shape: {training_labels.shape} and dtype: {training_labels.dtype}\")\n",
        "print(f\"Validation images has shape: {validation_images.shape} and dtype: {validation_images.dtype}\")\n",
        "print(f\"Validation labels has shape: {validation_labels.shape} and dtype: {validation_labels.dtype}\")"
      ]
    },
    {
      "cell_type": "markdown",
      "id": "1b949055",
      "metadata": {
        "id": "1b949055"
      },
      "source": [
        "**Expected Output:**\n",
        "```\n",
        "Training images has shape: (27455, 28, 28) and dtype: float64\n",
        "Training labels has shape: (27455,) and dtype: float64\n",
        "Validation images has shape: (7172, 28, 28) and dtype: float64\n",
        "Validation labels has shape: (7172,) and dtype: float64\n",
        "```"
      ]
    },
    {
      "cell_type": "markdown",
      "id": "a04e8e23",
      "metadata": {
        "id": "a04e8e23"
      },
      "source": [
        "## Visualizing the numpy arrays\n",
        "\n",
        "Now that you have converted the initial csv data into a format that is compatible with computer vision tasks, take a moment to actually see how the images of the dataset look like:"
      ]
    },
    {
      "cell_type": "code",
<<<<<<< HEAD
      "execution_count": 9,
      "id": "81605604",
      "metadata": {
        "id": "81605604",
        "tags": [],
        "colab": {
          "base_uri": "https://localhost:8080/",
          "height": 202
        },
        "outputId": "aaef6fa3-808d-4cff-c987-1c0a7961f318"
      },
      "outputs": [
        {
          "output_type": "display_data",
          "data": {
            "text/plain": [
              "<Figure size 1600x1500 with 10 Axes>"
            ],
            "image/png": "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\n"
          },
          "metadata": {}
        }
      ],
=======
      "execution_count": null,
      "id": "81605604",
      "metadata": {
        "id": "81605604",
        "tags": []
      },
      "outputs": [],
>>>>>>> 1852eadbe6edcce3128ee79703a47bbb84f0057f
      "source": [
        "# Plot a sample of 10 images from the training set\n",
        "def plot_categories(training_images, training_labels):\n",
        "  fig, axes = plt.subplots(1, 10, figsize=(16, 15))\n",
        "  axes = axes.flatten()\n",
        "  letters = list(string.ascii_lowercase)\n",
        "\n",
        "  for k in range(10):\n",
        "    img = training_images[k]\n",
        "    img = np.expand_dims(img, axis=-1)\n",
        "    img = array_to_img(img)\n",
        "    ax = axes[k]\n",
        "    ax.imshow(img, cmap=\"Greys_r\")\n",
        "    ax.set_title(f\"{letters[int(training_labels[k])]}\")\n",
        "    ax.set_axis_off()\n",
        "\n",
        "  plt.tight_layout()\n",
        "  plt.show()\n",
        "\n",
        "plot_categories(training_images, training_labels)"
      ]
    },
    {
      "cell_type": "markdown",
      "id": "a77c3fae",
      "metadata": {
        "id": "a77c3fae"
      },
      "source": [
        "## Creating the generators for the CNN\n",
        "\n",
        "Now that you have successfully organized the data in a way that can be easily fed to Keras' `ImageDataGenerator`, it is time for you to code the generators that will yield batches of images, both for training and validation. For this complete the `train_val_generators` function below.\n",
        "\n",
        "Some important notes:\n",
        "\n",
        "- The images in this dataset come in the same resolution so you don't need to set a custom `target_size` in this case. In fact, you can't even do so because this time you will not be using the `flow_from_directory` method (as in previous assignments). Instead you will use the [`flow`](https://www.tensorflow.org/api_docs/python/tf/keras/preprocessing/image/ImageDataGenerator#flow) method.\n",
        "- You need to add the \"color\" dimension to the numpy arrays that encode the images. These are black and white images, so this new dimension should have a size of 1 (instead of 3, which is used when dealing with colored images). Take a look at the function [`np.expand_dims`](https://numpy.org/doc/stable/reference/generated/numpy.expand_dims.html) for this."
      ]
    },
    {
      "cell_type": "code",
<<<<<<< HEAD
      "execution_count": 10,
=======
      "execution_count": null,
>>>>>>> 1852eadbe6edcce3128ee79703a47bbb84f0057f
      "id": "42157a8c",
      "metadata": {
        "cellView": "code",
        "id": "42157a8c",
        "lines_to_next_cell": 2,
        "tags": [
          "graded"
        ]
      },
      "outputs": [],
      "source": [
        "# grader-required-cell\n",
        "\n",
        "# GRADED FUNCTION: train_val_generators\n",
        "def train_val_generators(training_images, training_labels, validation_images, validation_labels):\n",
        "  \"\"\"\n",
        "  Creates the training and validation data generators\n",
        "\n",
        "  Args:\n",
        "    training_images (array): parsed images from the train CSV file\n",
        "    training_labels (array): parsed labels from the train CSV file\n",
        "    validation_images (array): parsed images from the test CSV file\n",
        "    validation_labels (array): parsed labels from the test CSV file\n",
        "\n",
        "  Returns:\n",
        "    train_generator, validation_generator - tuple containing the generators\n",
        "  \"\"\"\n",
        "  ### START CODE HERE\n",
        "\n",
        "  # In this section you will have to add another dimension to the data\n",
        "  # So, for example, if your array is (10000, 28, 28)\n",
        "  # You will need to make it (10000, 28, 28, 1)\n",
        "  # Hint: np.expand_dims\n",
<<<<<<< HEAD
        "  training_images = np.expand_dims(training_images, axis = -1)\n",
        "  validation_images = np.expand_dims(validation_images, axis = -1)\n",
=======
        "  training_images = None\n",
        "  validation_images = None\n",
>>>>>>> 1852eadbe6edcce3128ee79703a47bbb84f0057f
        "\n",
        "  # Instantiate the ImageDataGenerator class\n",
        "  # Don't forget to normalize pixel values\n",
        "  # and set arguments to augment the images (if desired)\n",
<<<<<<< HEAD
        "  train_datagen = ImageDataGenerator(\n",
        "      rescale = 1./255.,\n",
        "      rotation_range=40,\n",
        "      width_shift_range=0.2,\n",
        "      height_shift_range=0.2,\n",
        "      shear_range=0.2,\n",
        "      zoom_range=0.2,\n",
        "      horizontal_flip=True,\n",
        "      fill_mode='nearest'\n",
        "      )\n",
        "\n",
        "\n",
        "  # Pass in the appropriate arguments to the flow method\n",
        "  train_generator = train_datagen.flow(x=training_images,\n",
        "                                       y=training_labels,\n",
=======
        "  train_datagen = None\n",
        "\n",
        "\n",
        "  # Pass in the appropriate arguments to the flow method\n",
        "  train_generator = train_datagen.flow(x=None,\n",
        "                                       y=None,\n",
>>>>>>> 1852eadbe6edcce3128ee79703a47bbb84f0057f
        "                                       batch_size=32)\n",
        "\n",
        "\n",
        "  # Instantiate the ImageDataGenerator class (don't forget to set the rescale argument)\n",
        "  # Remember that validation data should not be augmented\n",
<<<<<<< HEAD
        "  validation_datagen = ImageDataGenerator(rescale = 1/255)\n",
        "\n",
        "  # Pass in the appropriate arguments to the flow method\n",
        "  validation_generator = validation_datagen.flow(x=validation_images,\n",
        "                                                 y=validation_labels,\n",
=======
        "  validation_datagen = None\n",
        "\n",
        "  # Pass in the appropriate arguments to the flow method\n",
        "  validation_generator = validation_datagen.flow(x=None,\n",
        "                                                 y=None,\n",
>>>>>>> 1852eadbe6edcce3128ee79703a47bbb84f0057f
        "                                                 batch_size=32)\n",
        "\n",
        "  ### END CODE HERE\n",
        "\n",
        "  return train_generator, validation_generator"
      ]
    },
    {
      "cell_type": "code",
<<<<<<< HEAD
      "execution_count": 11,
=======
      "execution_count": null,
>>>>>>> 1852eadbe6edcce3128ee79703a47bbb84f0057f
      "id": "0225e001",
      "metadata": {
        "id": "0225e001",
        "tags": [
          "graded"
<<<<<<< HEAD
        ],
        "colab": {
          "base_uri": "https://localhost:8080/"
        },
        "outputId": "377852a5-6699-4dfe-d406-18765a0a7349"
      },
      "outputs": [
        {
          "output_type": "stream",
          "name": "stdout",
          "text": [
            "Images of training generator have shape: (27455, 28, 28, 1)\n",
            "Labels of training generator have shape: (27455,)\n",
            "Images of validation generator have shape: (7172, 28, 28, 1)\n",
            "Labels of validation generator have shape: (7172,)\n"
          ]
        }
      ],
=======
        ]
      },
      "outputs": [],
>>>>>>> 1852eadbe6edcce3128ee79703a47bbb84f0057f
      "source": [
        "# grader-required-cell\n",
        "\n",
        "# Test your generators\n",
        "train_generator, validation_generator = train_val_generators(training_images, training_labels, validation_images, validation_labels)\n",
        "\n",
        "print(f\"Images of training generator have shape: {train_generator.x.shape}\")\n",
        "print(f\"Labels of training generator have shape: {train_generator.y.shape}\")\n",
        "print(f\"Images of validation generator have shape: {validation_generator.x.shape}\")\n",
        "print(f\"Labels of validation generator have shape: {validation_generator.y.shape}\")"
      ]
    },
    {
      "cell_type": "markdown",
      "id": "806fbddc",
      "metadata": {
        "id": "806fbddc"
      },
      "source": [
        "**Expected Output:**\n",
        "```\n",
        "Images of training generator have shape: (27455, 28, 28, 1)\n",
        "Labels of training generator have shape: (27455,)\n",
        "Images of validation generator have shape: (7172, 28, 28, 1)\n",
        "Labels of validation generator have shape: (7172,)\n",
        "```"
      ]
    },
    {
      "cell_type": "markdown",
      "id": "79415fd9",
      "metadata": {
        "id": "79415fd9"
      },
      "source": [
        "## Coding the CNN\n",
        "\n",
        "One last step before training is to define the architecture of the model.\n",
        "\n",
        "Complete the `create_model` function below. This function should return a Keras' model that uses the `Sequential` or the `Functional` API.\n",
        "\n",
        "The last layer of your model should have a number of units equal to the number of letters in the English alphabet. It should also use an activation function that will output the probabilities per letter.\n",
        "\n",
        "*Note: The [documentation](https://www.kaggle.com/datamunge/sign-language-mnist) of the dataset mentions that there are actually no cases for the last letter, Z, and this will allow you to reduce the recommended number of output units above by one. If you're not yet convinced, you can safely ignore this fact for now and study it later. You will pass the assignment even without this slight optimization.*\n",
        "\n",
        "Aside from defining the architecture of the model, you should also compile it so make sure to use a `loss` function that is suitable for multi-class classification.\n",
        "\n",
        "**Note that you should use no more than 2 Conv2D and 2 MaxPooling2D layers to achieve the desired performance.**"
      ]
    },
    {
      "cell_type": "code",
<<<<<<< HEAD
      "execution_count": 12,
=======
      "execution_count": null,
>>>>>>> 1852eadbe6edcce3128ee79703a47bbb84f0057f
      "id": "f9598ae6",
      "metadata": {
        "cellView": "code",
        "id": "f9598ae6",
        "tags": [
          "graded"
        ]
      },
      "outputs": [],
      "source": [
        "# grader-required-cell\n",
        "\n",
        "def create_model():\n",
        "\n",
        "  ### START CODE HERE\n",
        "\n",
        "  # Define the model\n",
        "  # Use no more than 2 Conv2D and 2 MaxPooling2D\n",
<<<<<<< HEAD
        "  model = tf.keras.models.Sequential([\n",
        "    tf.keras.layers.Conv2D(64, (3, 3), activation='relu', input_shape=(28, 28, 1)),\n",
        "    tf.keras.layers.MaxPooling2D(2, 2),\n",
        "    tf.keras.layers.Conv2D(64, (3, 3), activation='relu', input_shape=(28, 28, 1)),\n",
        "    tf.keras.layers.MaxPooling2D(2, 2),\n",
        "    # Flatten\n",
        "    tf.keras.layers.Flatten(),\n",
        "    tf.keras.layers.Dense(512, activation='relu'),\n",
        "    # 26 classes\n",
        "    tf.keras.layers.Dense(26, activation='softmax')\n",
        "  ])\n",
        "\n",
        "\n",
        "  model.compile(optimizer = tf.optimizers.Adam(),\n",
        "                loss = 'sparse_categorical_crossentropy',\n",
        "                metrics=['accuracy'])\n",
=======
        "  model = None\n",
        "\n",
        "\n",
        "  model.compile(optimizer = None,\n",
        "                loss = None,\n",
        "                metrics=[None])\n",
        "\n",
>>>>>>> 1852eadbe6edcce3128ee79703a47bbb84f0057f
        "  ### END CODE HERE\n",
        "\n",
        "  return model"
      ]
    },
    {
      "cell_type": "code",
<<<<<<< HEAD
      "execution_count": 13,
=======
      "execution_count": null,
>>>>>>> 1852eadbe6edcce3128ee79703a47bbb84f0057f
      "id": "125be6c8",
      "metadata": {
        "id": "125be6c8",
        "lines_to_next_cell": 2,
<<<<<<< HEAD
        "tags": [],
        "colab": {
          "base_uri": "https://localhost:8080/"
        },
        "outputId": "57ecf927-1a10-445d-efba-e962bd645099"
      },
      "outputs": [
        {
          "output_type": "stream",
          "name": "stdout",
          "text": [
            "Epoch 1/15\n",
            "858/858 [==============================] - 19s 16ms/step - loss: 2.6223 - accuracy: 0.1992 - val_loss: 1.4711 - val_accuracy: 0.5459\n",
            "Epoch 2/15\n",
            "858/858 [==============================] - 13s 15ms/step - loss: 1.7760 - accuracy: 0.4280 - val_loss: 1.0115 - val_accuracy: 0.6679\n",
            "Epoch 3/15\n",
            "858/858 [==============================] - 13s 15ms/step - loss: 1.3300 - accuracy: 0.5644 - val_loss: 0.8580 - val_accuracy: 0.7012\n",
            "Epoch 4/15\n",
            "858/858 [==============================] - 13s 15ms/step - loss: 1.0827 - accuracy: 0.6436 - val_loss: 0.5540 - val_accuracy: 0.8119\n",
            "Epoch 5/15\n",
            "858/858 [==============================] - 13s 15ms/step - loss: 0.9159 - accuracy: 0.6983 - val_loss: 0.4989 - val_accuracy: 0.8360\n",
            "Epoch 6/15\n",
            "858/858 [==============================] - 13s 15ms/step - loss: 0.7956 - accuracy: 0.7383 - val_loss: 0.4277 - val_accuracy: 0.8643\n",
            "Epoch 7/15\n",
            "858/858 [==============================] - 14s 16ms/step - loss: 0.7098 - accuracy: 0.7649 - val_loss: 0.3912 - val_accuracy: 0.8554\n",
            "Epoch 8/15\n",
            "858/858 [==============================] - 13s 15ms/step - loss: 0.6308 - accuracy: 0.7905 - val_loss: 0.4052 - val_accuracy: 0.8533\n",
            "Epoch 9/15\n",
            "858/858 [==============================] - 14s 16ms/step - loss: 0.5806 - accuracy: 0.8080 - val_loss: 0.4011 - val_accuracy: 0.8565\n",
            "Epoch 10/15\n",
            "858/858 [==============================] - 13s 15ms/step - loss: 0.5301 - accuracy: 0.8206 - val_loss: 0.2338 - val_accuracy: 0.9133\n",
            "Epoch 11/15\n",
            "858/858 [==============================] - 15s 17ms/step - loss: 0.4925 - accuracy: 0.8385 - val_loss: 0.1883 - val_accuracy: 0.9332\n",
            "Epoch 12/15\n",
            "858/858 [==============================] - 14s 16ms/step - loss: 0.4712 - accuracy: 0.8438 - val_loss: 0.1816 - val_accuracy: 0.9350\n",
            "Epoch 13/15\n",
            "858/858 [==============================] - 14s 16ms/step - loss: 0.4387 - accuracy: 0.8553 - val_loss: 0.2156 - val_accuracy: 0.9247\n",
            "Epoch 14/15\n",
            "858/858 [==============================] - 13s 16ms/step - loss: 0.4252 - accuracy: 0.8583 - val_loss: 0.1977 - val_accuracy: 0.9382\n",
            "Epoch 15/15\n",
            "858/858 [==============================] - 13s 15ms/step - loss: 0.4007 - accuracy: 0.8685 - val_loss: 0.1502 - val_accuracy: 0.9527\n"
          ]
        }
      ],
=======
        "tags": []
      },
      "outputs": [],
>>>>>>> 1852eadbe6edcce3128ee79703a47bbb84f0057f
      "source": [
        "# Save your model\n",
        "model = create_model()\n",
        "\n",
        "# Train your model\n",
        "history = model.fit(train_generator,\n",
        "                    epochs=15,\n",
        "                    validation_data=validation_generator)"
      ]
    },
    {
      "cell_type": "markdown",
      "id": "05b02793",
      "metadata": {
        "id": "05b02793"
      },
      "source": [
        "Now take a look at your training history:"
      ]
    },
    {
      "cell_type": "code",
<<<<<<< HEAD
      "execution_count": 14,
      "id": "f1567eef",
      "metadata": {
        "id": "f1567eef",
        "tags": [],
        "colab": {
          "base_uri": "https://localhost:8080/",
          "height": 887
        },
        "outputId": "0526df65-21d7-4237-ab1e-7c75eded2200"
      },
      "outputs": [
        {
          "output_type": "display_data",
          "data": {
            "text/plain": [
              "<Figure size 640x480 with 1 Axes>"
            ],
            "image/png": "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\n"
          },
          "metadata": {}
        },
        {
          "output_type": "display_data",
          "data": {
            "text/plain": [
              "<Figure size 640x480 with 1 Axes>"
            ],
            "image/png": "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\n"
          },
          "metadata": {}
        }
      ],
=======
      "execution_count": null,
      "id": "f1567eef",
      "metadata": {
        "id": "f1567eef",
        "tags": []
      },
      "outputs": [],
>>>>>>> 1852eadbe6edcce3128ee79703a47bbb84f0057f
      "source": [
        "# Plot the chart for accuracy and loss on both training and validation\n",
        "acc = history.history['accuracy']\n",
        "val_acc = history.history['val_accuracy']\n",
        "loss = history.history['loss']\n",
        "val_loss = history.history['val_loss']\n",
        "\n",
        "epochs = range(len(acc))\n",
        "\n",
        "plt.plot(epochs, acc, 'r', label='Training accuracy')\n",
        "plt.plot(epochs, val_acc, 'b', label='Validation accuracy')\n",
        "plt.title('Training and validation accuracy')\n",
        "plt.legend()\n",
        "plt.figure()\n",
        "\n",
        "plt.plot(epochs, loss, 'r', label='Training Loss')\n",
        "plt.plot(epochs, val_loss, 'b', label='Validation Loss')\n",
        "plt.title('Training and validation loss')\n",
        "plt.legend()\n",
        "\n",
        "plt.show()"
      ]
    },
    {
      "cell_type": "markdown",
      "id": "c50a2587",
      "metadata": {
        "id": "c50a2587"
      },
      "source": [
        "You will not be graded based on the accuracy of your model but try making it as high as possible for both training and validation, as an optional exercise, **after submitting your notebook for grading**.\n",
        "\n",
        "A reasonable benchmark is to achieve over 99% accuracy for training and over 95% accuracy for validation within 15 epochs. Try tweaking your model's architecture or the augmentation techniques to see if you can achieve these levels of accuracy."
      ]
    },
    {
      "cell_type": "markdown",
      "id": "e6164b6d",
      "metadata": {
        "id": "e6164b6d"
      },
      "source": [
        "## Download your notebook for grading\n",
        "\n",
        "You will need to submit your solution notebook for grading. The following code cells will check if this notebook's grader metadata (i.e. hidden data in the notebook needed for grading) is not modified by your workspace. This will ensure that the autograder can evaluate your code properly. Depending on its output, you will either:\n",
        "\n",
        "* *if the metadata is intact*: Download the current notebook. Click on the File tab on the upper left corner of the screen then click on `Download -> Download .ipynb.` You can name it anything you want as long as it is a valid `.ipynb` (jupyter notebook) file.\n",
        "<br>\n",
        "\n",
        "* *if the metadata is missing*: A new notebook with your solutions will be created on this Colab workspace. It should be downloaded automatically and you can submit that to the grader."
      ]
    },
    {
      "cell_type": "code",
<<<<<<< HEAD
      "execution_count": 15,
      "id": "c211f234",
      "metadata": {
        "id": "c211f234",
        "colab": {
          "base_uri": "https://localhost:8080/"
        },
        "outputId": "9113bac6-2a50-4ca1-b464-e1cc37a2c5c8"
      },
      "outputs": [
        {
          "output_type": "stream",
          "name": "stdout",
          "text": [
            "--2024-05-04 23:06:00--  https://storage.googleapis.com/tensorflow-1-public/colab_metadata_checker.py\n",
            "Resolving storage.googleapis.com (storage.googleapis.com)... 108.177.127.207, 172.217.218.207, 142.251.31.207, ...\n",
            "Connecting to storage.googleapis.com (storage.googleapis.com)|108.177.127.207|:443... connected.\n",
            "HTTP request sent, awaiting response... 200 OK\n",
            "Length: 1997 (2.0K) [text/x-python-script]\n",
            "Saving to: ‘colab_metadata_checker.py’\n",
            "\n",
            "colab_metadata_chec 100%[===================>]   1.95K  --.-KB/s    in 0s      \n",
            "\n",
            "2024-05-04 23:06:01 (41.0 MB/s) - ‘colab_metadata_checker.py’ saved [1997/1997]\n",
            "\n"
          ]
        }
      ],
=======
      "execution_count": null,
      "id": "c211f234",
      "metadata": {
        "id": "c211f234"
      },
      "outputs": [],
>>>>>>> 1852eadbe6edcce3128ee79703a47bbb84f0057f
      "source": [
        "# Download metadata checker\n",
        "!wget -nc https://storage.googleapis.com/tensorflow-1-public/colab_metadata_checker.py"
      ]
    },
    {
      "cell_type": "code",
<<<<<<< HEAD
      "execution_count": 16,
      "id": "50587d8c",
      "metadata": {
        "id": "50587d8c",
        "colab": {
          "base_uri": "https://localhost:8080/"
        },
        "outputId": "e6becf90-f923-4b2d-f407-2b43ac1a9aa7"
      },
      "outputs": [
        {
          "output_type": "stream",
          "name": "stdout",
          "text": [
            "Grader metadata detected! You can download this notebook by clicking `File > Download > Download as .ipynb` and submit it to the grader!\n"
          ]
        }
      ],
=======
      "execution_count": null,
      "id": "50587d8c",
      "metadata": {
        "id": "50587d8c"
      },
      "outputs": [],
>>>>>>> 1852eadbe6edcce3128ee79703a47bbb84f0057f
      "source": [
        "import colab_metadata_checker\n",
        "\n",
        "# Please see the output of this cell to see which file you need to submit to the grader\n",
        "colab_metadata_checker.run('C2W4_Assignment_fixed.ipynb')"
      ]
    },
    {
      "cell_type": "markdown",
      "id": "81b51a3c",
      "metadata": {
        "id": "81b51a3c"
      },
      "source": [
        "**Please disregard the following note if the notebook metadata is detected**\n",
        "\n",
        "_Note: Just in case the download fails for the second point above, you can also do these steps:_\n",
        "* _Click the Folder icon on the left side of this screen to open the File Manager._\n",
        "* _Click the Folder Refresh icon in the File Manager to see the latest files in the workspace. You should see a file ending with a `_fixed.ipynb`._\n",
        "* _Right-click on that file to save locally and submit it to the grader._\n"
      ]
    },
    {
      "cell_type": "markdown",
      "id": "36599144",
      "metadata": {
        "id": "36599144"
      },
      "source": [
        "**Congratulations on finishing this week's assignment!**\n",
        "\n",
        "You have successfully implemented a convolutional neural network that is able to perform multi-class classification tasks! Nice job!\n",
        "\n",
        "**Keep it up!**"
      ]
    }
  ],
  "metadata": {
    "accelerator": "GPU",
    "kernelspec": {
      "display_name": "Python 3 (ipykernel)",
      "language": "python",
      "name": "python3"
    },
    "language_info": {
      "codemirror_mode": {
        "name": "ipython",
        "version": 3
      },
      "file_extension": ".py",
      "mimetype": "text/x-python",
      "name": "python",
      "nbconvert_exporter": "python",
      "pygments_lexer": "ipython3",
      "version": "3.9.13"
    },
    "colab": {
      "provenance": []
    }
  },
  "nbformat": 4,
  "nbformat_minor": 5
}